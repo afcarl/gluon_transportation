{
 "cells": [
  {
   "cell_type": "markdown",
   "metadata": {},
   "source": [
    "Data Manual: https://crashstats.nhtsa.dot.gov/Api/Public/ViewPublication/812315"
   ]
  },
  {
   "cell_type": "markdown",
   "metadata": {},
   "source": [
    "We need the opportunity to do negative sampling on this accident data.  Right now, we only have the opportunity to predict what kind of accident will happen, not whether an acident will happen at all."
   ]
  },
  {
   "cell_type": "markdown",
   "metadata": {},
   "source": [
    "Page 13 of Data Manual outlines how various tables can be joined (Accident, Person, Vehicle)"
   ]
  },
  {
   "cell_type": "markdown",
   "metadata": {},
   "source": [
    "#Page 32 of FARS Data Manual We will want to use the following features of the Accident table:\n",
    "\n",
    "    'PEDS': Persons not in vehicles\n",
    "    'PERNOTMVIT': Non-motorists in crash\n",
    "    'VE_TOTAL': All vehicles in crash\n",
    "    'VE_FORMS': Number of vehicles in transport\n",
    "    'PVH_INVL': Nubmer of parked, working vehicles\n",
    "    'PERSONS': Number of persons involved\n",
    "    'PERMVIT': Number of motorists in accident\n",
    "    'COUNTY': County where accident occured\n",
    "    'CITY': City where accident occured\n",
    "    'MONTH': Month of accident\n",
    "    'DAY': Day of month of accident\n",
    "    'DAY_WEEK': Day of week of accident\n",
    "    'YEAR': Year of crash\n",
    "    'HOUR': Hour of crash\n",
    "    'MINUTE': Minute of hour of crash\n",
    "    'TWAY_ID': Traffic Direction at time of crash\n",
    "    'TWAY_ID2': Traffic Direction at time of crash\n",
    "    #Not in data, but in data manual\n",
    "    #'CL_TWAY': Routing signal at time of accident\n",
    "    'ROUTE': Routing signal at time of accident\n",
    "    'SP_JUR': Special Jurisdiction\n",
    "    'MILEPT' : Closest mile point\n",
    "    'LATITUDE' : Latitute\n",
    "    'LONGITUD': Longitude\n",
    "    'TYP_INT': Type of intersection\n",
    "    'REL_ROAD': Relation to Trafficway\n",
    "    'C_M_ZONE': Work Zone\n",
    "    'WRK_ZONE': Work Zone\n",
    "    'LGT_COND': Light condition\n",
    "    'WEATHER': Weather condition\n",
    "    'WEATHE1': Weather condition\n",
    "    'WEATHE2': Weather condition\n",
    "\n",
    "    #Label\n",
    "    'MAN_COLL': Manner of Collision\n",
    "    'PMAN_COLL': Manner of Collision\n",
    "    'HARM_EV': First injury or damage producing event in crash\n",
    "    *All features have scale/index discontinuities over the history of the data; this must be accounted for on a feature-by-feature basis"
   ]
  },
  {
   "cell_type": "code",
   "execution_count": null,
   "metadata": {},
   "outputs": [],
   "source": []
  }
 ],
 "metadata": {
  "kernelspec": {
   "display_name": "Python 2",
   "language": "python",
   "name": "python2"
  },
  "language_info": {
   "codemirror_mode": {
    "name": "ipython",
    "version": 2
   },
   "file_extension": ".py",
   "mimetype": "text/x-python",
   "name": "python",
   "nbconvert_exporter": "python",
   "pygments_lexer": "ipython2",
   "version": "2.7.9"
  }
 },
 "nbformat": 4,
 "nbformat_minor": 2
}
