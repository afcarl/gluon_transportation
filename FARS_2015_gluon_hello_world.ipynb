{
 "cells": [
  {
   "cell_type": "markdown",
   "metadata": {},
   "source": [
    "# Gluon and FARS Demo\n",
    "\n",
    "*This notebook explores Gluon's api with transportation data*"
   ]
  },
  {
   "cell_type": "code",
   "execution_count": 23,
   "metadata": {},
   "outputs": [
    {
     "name": "stdout",
     "output_type": "stream",
     "text": [
      "Requirement already satisfied: mxnet in /usr/local/lib/python2.7/dist-packages\r\n",
      "Requirement already satisfied: numpy in /usr/local/lib/python2.7/dist-packages (from mxnet)\r\n",
      "Requirement already satisfied: graphviz in /usr/local/lib/python2.7/dist-packages (from mxnet)\r\n"
     ]
    }
   ],
   "source": [
    "# Code illustrating import of gluon library\n",
    "!sudo pip install mxnet\n",
    "\n",
    "import mxnet as mx\n",
    "from mxnet import gluon, autograd, ndarray\n",
    "import numpy as np"
   ]
  },
  {
   "cell_type": "code",
   "execution_count": 26,
   "metadata": {},
   "outputs": [],
   "source": [
    "# Quick start example from: https://github.com/gluon-api/gluon-api/\n",
    "train_data = mx.gluon.data.DataLoader(mx.gluon.data.vision.MNIST(train=True, transform=lambda data, label: (data.astype(np.float32)/255, label)),\n",
    "                                      batch_size=32, shuffle=True)\n",
    "test_data = mx.gluon.data.DataLoader(mx.gluon.data.vision.MNIST(train=False, transform=lambda data, label: (data.astype(np.float32)/255, label)),\n",
    "                                     batch_size=32, shuffle=False)        "
   ]
  },
  {
   "cell_type": "markdown",
   "metadata": {},
   "source": [
    "*What follows below is a demo developed by https://github.com/cheevahagadog/FARS-demos to provide code snippets and reference* \n",
    "\n",
    "*Pull any/all bits from below to load data and create a new demo with gluon*\n",
    "\n",
    "# Jupyter Notebook FARS Demo\n",
    "\n",
    "**Link to challenge details: https://www.bigdatahubs.io/ **  \n",
    "**Link to data documentation: http://bit.ly/2vL2TfF  **  \n",
    "**Link to data set: ftp://ftp.nhtsa.dot.gov/fars/2015/National/  ** "
   ]
  },
  {
   "cell_type": "markdown",
   "metadata": {},
   "source": [
    "Let's load some libraries that we'll be using:"
   ]
  },
  {
   "cell_type": "code",
   "execution_count": 1,
   "metadata": {},
   "outputs": [],
   "source": [
    "%matplotlib inline\n",
    "import pandas as pd\n",
    "import matplotlib.pyplot as plt\n",
    "import seaborn as sns\n",
    "import numpy as np\n",
    "from scipy.stats import norm\n",
    "from sklearn.preprocessing import StandardScaler\n",
    "from scipy import stats\n",
    "import warnings\n",
    "from collections import Counter"
   ]
  },
  {
   "cell_type": "markdown",
   "metadata": {},
   "source": [
    "let's decide on some graphic options. Since these data sets have so many columns, it might be nice to see more of them than the default. "
   ]
  },
  {
   "cell_type": "code",
   "execution_count": 2,
   "metadata": {},
   "outputs": [],
   "source": [
    "pd.set_option('max_columns', 110)\n",
    "plt.style.use('ggplot')"
   ]
  },
  {
   "cell_type": "markdown",
   "metadata": {},
   "source": [
    "Here we're reading in our data files and saving them as variables."
   ]
  },
  {
   "cell_type": "code",
   "execution_count": 3,
   "metadata": {},
   "outputs": [],
   "source": [
    "persons = pd.read_csv('data/person.csv')\n",
    "accidents = pd.read_csv('data/accident.csv')\n",
    "vehicles = pd.read_csv('data/vehicle.csv', encoding ='latin1')  # In case you get encoding errors"
   ]
  },
  {
   "cell_type": "markdown",
   "metadata": {},
   "source": [
    "As per the documentation, certain fields can be used to match/join to other data sets.\n",
    "- ST_CASE should be used to merge the Person data file with the Accident data file for a set of all motorists and non-motorists.\n",
    "- ST_CASE and VEH_NO should be used to merge the Person data file with the Vehicle data files for a set of all motor vehicle occupants"
   ]
  },
  {
   "cell_type": "markdown",
   "metadata": {},
   "source": [
    "### Let's start by looking at the `persons` data set. \n",
    "Information on variable meanings can be found on pg. 241 of the data documentation link at top.\n",
    "Let's take a peek at what our data looks like"
   ]
  },
  {
   "cell_type": "code",
   "execution_count": 4,
   "metadata": {},
   "outputs": [
    {
     "data": {
      "text/html": [
       "<div>\n",
       "<style>\n",
       "    .dataframe thead tr:only-child th {\n",
       "        text-align: right;\n",
       "    }\n",
       "\n",
       "    .dataframe thead th {\n",
       "        text-align: left;\n",
       "    }\n",
       "\n",
       "    .dataframe tbody tr th {\n",
       "        vertical-align: top;\n",
       "    }\n",
       "</style>\n",
       "<table border=\"1\" class=\"dataframe\">\n",
       "  <thead>\n",
       "    <tr style=\"text-align: right;\">\n",
       "      <th></th>\n",
       "      <th>STATE</th>\n",
       "      <th>ST_CASE</th>\n",
       "      <th>VE_FORMS</th>\n",
       "      <th>VEH_NO</th>\n",
       "      <th>PER_NO</th>\n",
       "      <th>STR_VEH</th>\n",
       "      <th>COUNTY</th>\n",
       "      <th>DAY</th>\n",
       "      <th>MONTH</th>\n",
       "      <th>HOUR</th>\n",
       "      <th>MINUTE</th>\n",
       "      <th>RUR_URB</th>\n",
       "      <th>FUNC_SYS</th>\n",
       "      <th>HARM_EV</th>\n",
       "      <th>MAN_COLL</th>\n",
       "      <th>SCH_BUS</th>\n",
       "      <th>MAKE</th>\n",
       "      <th>MAK_MOD</th>\n",
       "      <th>BODY_TYP</th>\n",
       "      <th>MOD_YEAR</th>\n",
       "      <th>TOW_VEH</th>\n",
       "      <th>SPEC_USE</th>\n",
       "      <th>EMER_USE</th>\n",
       "      <th>ROLLOVER</th>\n",
       "      <th>IMPACT1</th>\n",
       "      <th>FIRE_EXP</th>\n",
       "      <th>AGE</th>\n",
       "      <th>SEX</th>\n",
       "      <th>PER_TYP</th>\n",
       "      <th>INJ_SEV</th>\n",
       "      <th>SEAT_POS</th>\n",
       "      <th>REST_USE</th>\n",
       "      <th>REST_MIS</th>\n",
       "      <th>AIR_BAG</th>\n",
       "      <th>EJECTION</th>\n",
       "      <th>EJ_PATH</th>\n",
       "      <th>EXTRICAT</th>\n",
       "      <th>DRINKING</th>\n",
       "      <th>ALC_DET</th>\n",
       "      <th>ALC_STATUS</th>\n",
       "      <th>ATST_TYP</th>\n",
       "      <th>ALC_RES</th>\n",
       "      <th>DRUGS</th>\n",
       "      <th>DRUG_DET</th>\n",
       "      <th>DSTATUS</th>\n",
       "      <th>DRUGTST1</th>\n",
       "      <th>DRUGTST2</th>\n",
       "      <th>DRUGTST3</th>\n",
       "      <th>DRUGRES1</th>\n",
       "      <th>DRUGRES2</th>\n",
       "      <th>DRUGRES3</th>\n",
       "      <th>HOSPITAL</th>\n",
       "      <th>DOA</th>\n",
       "      <th>DEATH_DA</th>\n",
       "      <th>DEATH_MO</th>\n",
       "      <th>DEATH_YR</th>\n",
       "      <th>DEATH_HR</th>\n",
       "      <th>DEATH_MN</th>\n",
       "      <th>DEATH_TM</th>\n",
       "      <th>LAG_HRS</th>\n",
       "      <th>LAG_MINS</th>\n",
       "      <th>P_SF1</th>\n",
       "      <th>P_SF2</th>\n",
       "      <th>P_SF3</th>\n",
       "      <th>WORK_INJ</th>\n",
       "      <th>HISPANIC</th>\n",
       "      <th>RACE</th>\n",
       "      <th>LOCATION</th>\n",
       "    </tr>\n",
       "  </thead>\n",
       "  <tbody>\n",
       "    <tr>\n",
       "      <th>0</th>\n",
       "      <td>1</td>\n",
       "      <td>10001</td>\n",
       "      <td>1</td>\n",
       "      <td>1</td>\n",
       "      <td>1</td>\n",
       "      <td>0</td>\n",
       "      <td>127</td>\n",
       "      <td>1</td>\n",
       "      <td>1</td>\n",
       "      <td>2</td>\n",
       "      <td>40</td>\n",
       "      <td>1</td>\n",
       "      <td>3</td>\n",
       "      <td>35</td>\n",
       "      <td>0</td>\n",
       "      <td>0</td>\n",
       "      <td>12.0</td>\n",
       "      <td>12481.0</td>\n",
       "      <td>31.0</td>\n",
       "      <td>2003.0</td>\n",
       "      <td>0.0</td>\n",
       "      <td>0.0</td>\n",
       "      <td>0.0</td>\n",
       "      <td>0.0</td>\n",
       "      <td>12.0</td>\n",
       "      <td>0.0</td>\n",
       "      <td>68</td>\n",
       "      <td>1</td>\n",
       "      <td>1</td>\n",
       "      <td>4</td>\n",
       "      <td>11</td>\n",
       "      <td>7</td>\n",
       "      <td>0</td>\n",
       "      <td>1</td>\n",
       "      <td>0</td>\n",
       "      <td>0</td>\n",
       "      <td>0</td>\n",
       "      <td>9</td>\n",
       "      <td>9</td>\n",
       "      <td>2</td>\n",
       "      <td>1</td>\n",
       "      <td>189</td>\n",
       "      <td>9</td>\n",
       "      <td>8</td>\n",
       "      <td>2</td>\n",
       "      <td>1</td>\n",
       "      <td>0</td>\n",
       "      <td>0</td>\n",
       "      <td>1</td>\n",
       "      <td>0</td>\n",
       "      <td>0</td>\n",
       "      <td>0</td>\n",
       "      <td>7</td>\n",
       "      <td>1</td>\n",
       "      <td>1</td>\n",
       "      <td>2015</td>\n",
       "      <td>2</td>\n",
       "      <td>40</td>\n",
       "      <td>240</td>\n",
       "      <td>0</td>\n",
       "      <td>0</td>\n",
       "      <td>0</td>\n",
       "      <td>0</td>\n",
       "      <td>0</td>\n",
       "      <td>0</td>\n",
       "      <td>7</td>\n",
       "      <td>1</td>\n",
       "      <td>0</td>\n",
       "    </tr>\n",
       "    <tr>\n",
       "      <th>1</th>\n",
       "      <td>1</td>\n",
       "      <td>10002</td>\n",
       "      <td>1</td>\n",
       "      <td>1</td>\n",
       "      <td>1</td>\n",
       "      <td>0</td>\n",
       "      <td>83</td>\n",
       "      <td>1</td>\n",
       "      <td>1</td>\n",
       "      <td>22</td>\n",
       "      <td>13</td>\n",
       "      <td>1</td>\n",
       "      <td>1</td>\n",
       "      <td>34</td>\n",
       "      <td>0</td>\n",
       "      <td>0</td>\n",
       "      <td>49.0</td>\n",
       "      <td>49040.0</td>\n",
       "      <td>4.0</td>\n",
       "      <td>2006.0</td>\n",
       "      <td>0.0</td>\n",
       "      <td>0.0</td>\n",
       "      <td>0.0</td>\n",
       "      <td>1.0</td>\n",
       "      <td>6.0</td>\n",
       "      <td>0.0</td>\n",
       "      <td>49</td>\n",
       "      <td>1</td>\n",
       "      <td>1</td>\n",
       "      <td>4</td>\n",
       "      <td>11</td>\n",
       "      <td>7</td>\n",
       "      <td>0</td>\n",
       "      <td>20</td>\n",
       "      <td>1</td>\n",
       "      <td>9</td>\n",
       "      <td>0</td>\n",
       "      <td>0</td>\n",
       "      <td>9</td>\n",
       "      <td>2</td>\n",
       "      <td>1</td>\n",
       "      <td>0</td>\n",
       "      <td>0</td>\n",
       "      <td>8</td>\n",
       "      <td>2</td>\n",
       "      <td>1</td>\n",
       "      <td>1</td>\n",
       "      <td>1</td>\n",
       "      <td>358</td>\n",
       "      <td>996</td>\n",
       "      <td>996</td>\n",
       "      <td>0</td>\n",
       "      <td>7</td>\n",
       "      <td>1</td>\n",
       "      <td>1</td>\n",
       "      <td>2015</td>\n",
       "      <td>22</td>\n",
       "      <td>13</td>\n",
       "      <td>2213</td>\n",
       "      <td>0</td>\n",
       "      <td>0</td>\n",
       "      <td>0</td>\n",
       "      <td>0</td>\n",
       "      <td>0</td>\n",
       "      <td>0</td>\n",
       "      <td>7</td>\n",
       "      <td>1</td>\n",
       "      <td>0</td>\n",
       "    </tr>\n",
       "    <tr>\n",
       "      <th>2</th>\n",
       "      <td>1</td>\n",
       "      <td>10003</td>\n",
       "      <td>1</td>\n",
       "      <td>1</td>\n",
       "      <td>1</td>\n",
       "      <td>0</td>\n",
       "      <td>11</td>\n",
       "      <td>1</td>\n",
       "      <td>1</td>\n",
       "      <td>1</td>\n",
       "      <td>25</td>\n",
       "      <td>1</td>\n",
       "      <td>3</td>\n",
       "      <td>42</td>\n",
       "      <td>0</td>\n",
       "      <td>0</td>\n",
       "      <td>20.0</td>\n",
       "      <td>20037.0</td>\n",
       "      <td>4.0</td>\n",
       "      <td>2008.0</td>\n",
       "      <td>0.0</td>\n",
       "      <td>0.0</td>\n",
       "      <td>0.0</td>\n",
       "      <td>1.0</td>\n",
       "      <td>12.0</td>\n",
       "      <td>1.0</td>\n",
       "      <td>31</td>\n",
       "      <td>1</td>\n",
       "      <td>1</td>\n",
       "      <td>4</td>\n",
       "      <td>11</td>\n",
       "      <td>7</td>\n",
       "      <td>0</td>\n",
       "      <td>1</td>\n",
       "      <td>0</td>\n",
       "      <td>0</td>\n",
       "      <td>0</td>\n",
       "      <td>1</td>\n",
       "      <td>9</td>\n",
       "      <td>2</td>\n",
       "      <td>1</td>\n",
       "      <td>188</td>\n",
       "      <td>9</td>\n",
       "      <td>8</td>\n",
       "      <td>2</td>\n",
       "      <td>1</td>\n",
       "      <td>0</td>\n",
       "      <td>0</td>\n",
       "      <td>1</td>\n",
       "      <td>0</td>\n",
       "      <td>0</td>\n",
       "      <td>0</td>\n",
       "      <td>7</td>\n",
       "      <td>1</td>\n",
       "      <td>1</td>\n",
       "      <td>2015</td>\n",
       "      <td>1</td>\n",
       "      <td>25</td>\n",
       "      <td>125</td>\n",
       "      <td>0</td>\n",
       "      <td>0</td>\n",
       "      <td>0</td>\n",
       "      <td>0</td>\n",
       "      <td>0</td>\n",
       "      <td>0</td>\n",
       "      <td>7</td>\n",
       "      <td>2</td>\n",
       "      <td>0</td>\n",
       "    </tr>\n",
       "    <tr>\n",
       "      <th>3</th>\n",
       "      <td>1</td>\n",
       "      <td>10003</td>\n",
       "      <td>1</td>\n",
       "      <td>1</td>\n",
       "      <td>2</td>\n",
       "      <td>0</td>\n",
       "      <td>11</td>\n",
       "      <td>1</td>\n",
       "      <td>1</td>\n",
       "      <td>1</td>\n",
       "      <td>25</td>\n",
       "      <td>1</td>\n",
       "      <td>3</td>\n",
       "      <td>42</td>\n",
       "      <td>0</td>\n",
       "      <td>0</td>\n",
       "      <td>20.0</td>\n",
       "      <td>20037.0</td>\n",
       "      <td>4.0</td>\n",
       "      <td>2008.0</td>\n",
       "      <td>0.0</td>\n",
       "      <td>0.0</td>\n",
       "      <td>0.0</td>\n",
       "      <td>1.0</td>\n",
       "      <td>12.0</td>\n",
       "      <td>1.0</td>\n",
       "      <td>20</td>\n",
       "      <td>2</td>\n",
       "      <td>2</td>\n",
       "      <td>2</td>\n",
       "      <td>13</td>\n",
       "      <td>7</td>\n",
       "      <td>0</td>\n",
       "      <td>1</td>\n",
       "      <td>0</td>\n",
       "      <td>0</td>\n",
       "      <td>0</td>\n",
       "      <td>8</td>\n",
       "      <td>9</td>\n",
       "      <td>0</td>\n",
       "      <td>0</td>\n",
       "      <td>996</td>\n",
       "      <td>8</td>\n",
       "      <td>8</td>\n",
       "      <td>0</td>\n",
       "      <td>0</td>\n",
       "      <td>0</td>\n",
       "      <td>0</td>\n",
       "      <td>0</td>\n",
       "      <td>0</td>\n",
       "      <td>0</td>\n",
       "      <td>5</td>\n",
       "      <td>0</td>\n",
       "      <td>88</td>\n",
       "      <td>88</td>\n",
       "      <td>8888</td>\n",
       "      <td>88</td>\n",
       "      <td>88</td>\n",
       "      <td>8888</td>\n",
       "      <td>999</td>\n",
       "      <td>99</td>\n",
       "      <td>0</td>\n",
       "      <td>0</td>\n",
       "      <td>0</td>\n",
       "      <td>8</td>\n",
       "      <td>0</td>\n",
       "      <td>0</td>\n",
       "      <td>0</td>\n",
       "    </tr>\n",
       "    <tr>\n",
       "      <th>4</th>\n",
       "      <td>1</td>\n",
       "      <td>10004</td>\n",
       "      <td>1</td>\n",
       "      <td>1</td>\n",
       "      <td>1</td>\n",
       "      <td>0</td>\n",
       "      <td>45</td>\n",
       "      <td>4</td>\n",
       "      <td>1</td>\n",
       "      <td>0</td>\n",
       "      <td>57</td>\n",
       "      <td>1</td>\n",
       "      <td>4</td>\n",
       "      <td>53</td>\n",
       "      <td>0</td>\n",
       "      <td>0</td>\n",
       "      <td>12.0</td>\n",
       "      <td>12481.0</td>\n",
       "      <td>31.0</td>\n",
       "      <td>2005.0</td>\n",
       "      <td>0.0</td>\n",
       "      <td>0.0</td>\n",
       "      <td>0.0</td>\n",
       "      <td>0.0</td>\n",
       "      <td>12.0</td>\n",
       "      <td>0.0</td>\n",
       "      <td>40</td>\n",
       "      <td>1</td>\n",
       "      <td>1</td>\n",
       "      <td>4</td>\n",
       "      <td>11</td>\n",
       "      <td>7</td>\n",
       "      <td>0</td>\n",
       "      <td>20</td>\n",
       "      <td>0</td>\n",
       "      <td>0</td>\n",
       "      <td>0</td>\n",
       "      <td>1</td>\n",
       "      <td>9</td>\n",
       "      <td>2</td>\n",
       "      <td>1</td>\n",
       "      <td>260</td>\n",
       "      <td>9</td>\n",
       "      <td>8</td>\n",
       "      <td>2</td>\n",
       "      <td>1</td>\n",
       "      <td>0</td>\n",
       "      <td>0</td>\n",
       "      <td>1</td>\n",
       "      <td>0</td>\n",
       "      <td>0</td>\n",
       "      <td>0</td>\n",
       "      <td>7</td>\n",
       "      <td>4</td>\n",
       "      <td>1</td>\n",
       "      <td>2015</td>\n",
       "      <td>0</td>\n",
       "      <td>57</td>\n",
       "      <td>57</td>\n",
       "      <td>0</td>\n",
       "      <td>0</td>\n",
       "      <td>0</td>\n",
       "      <td>0</td>\n",
       "      <td>0</td>\n",
       "      <td>0</td>\n",
       "      <td>7</td>\n",
       "      <td>1</td>\n",
       "      <td>0</td>\n",
       "    </tr>\n",
       "  </tbody>\n",
       "</table>\n",
       "</div>"
      ],
      "text/plain": [
       "   STATE  ST_CASE  VE_FORMS  VEH_NO  PER_NO  STR_VEH  COUNTY  DAY  MONTH  \\\n",
       "0      1    10001         1       1       1        0     127    1      1   \n",
       "1      1    10002         1       1       1        0      83    1      1   \n",
       "2      1    10003         1       1       1        0      11    1      1   \n",
       "3      1    10003         1       1       2        0      11    1      1   \n",
       "4      1    10004         1       1       1        0      45    4      1   \n",
       "\n",
       "   HOUR  MINUTE  RUR_URB  FUNC_SYS  HARM_EV  MAN_COLL  SCH_BUS  MAKE  MAK_MOD  \\\n",
       "0     2      40        1         3       35         0        0  12.0  12481.0   \n",
       "1    22      13        1         1       34         0        0  49.0  49040.0   \n",
       "2     1      25        1         3       42         0        0  20.0  20037.0   \n",
       "3     1      25        1         3       42         0        0  20.0  20037.0   \n",
       "4     0      57        1         4       53         0        0  12.0  12481.0   \n",
       "\n",
       "   BODY_TYP  MOD_YEAR  TOW_VEH  SPEC_USE  EMER_USE  ROLLOVER  IMPACT1  \\\n",
       "0      31.0    2003.0      0.0       0.0       0.0       0.0     12.0   \n",
       "1       4.0    2006.0      0.0       0.0       0.0       1.0      6.0   \n",
       "2       4.0    2008.0      0.0       0.0       0.0       1.0     12.0   \n",
       "3       4.0    2008.0      0.0       0.0       0.0       1.0     12.0   \n",
       "4      31.0    2005.0      0.0       0.0       0.0       0.0     12.0   \n",
       "\n",
       "   FIRE_EXP  AGE  SEX  PER_TYP  INJ_SEV  SEAT_POS  REST_USE  REST_MIS  \\\n",
       "0       0.0   68    1        1        4        11         7         0   \n",
       "1       0.0   49    1        1        4        11         7         0   \n",
       "2       1.0   31    1        1        4        11         7         0   \n",
       "3       1.0   20    2        2        2        13         7         0   \n",
       "4       0.0   40    1        1        4        11         7         0   \n",
       "\n",
       "   AIR_BAG  EJECTION  EJ_PATH  EXTRICAT  DRINKING  ALC_DET  ALC_STATUS  \\\n",
       "0        1         0        0         0         9        9           2   \n",
       "1       20         1        9         0         0        9           2   \n",
       "2        1         0        0         0         1        9           2   \n",
       "3        1         0        0         0         8        9           0   \n",
       "4       20         0        0         0         1        9           2   \n",
       "\n",
       "   ATST_TYP  ALC_RES  DRUGS  DRUG_DET  DSTATUS  DRUGTST1  DRUGTST2  DRUGTST3  \\\n",
       "0         1      189      9         8        2         1         0         0   \n",
       "1         1        0      0         8        2         1         1         1   \n",
       "2         1      188      9         8        2         1         0         0   \n",
       "3         0      996      8         8        0         0         0         0   \n",
       "4         1      260      9         8        2         1         0         0   \n",
       "\n",
       "   DRUGRES1  DRUGRES2  DRUGRES3  HOSPITAL  DOA  DEATH_DA  DEATH_MO  DEATH_YR  \\\n",
       "0         1         0         0         0    7         1         1      2015   \n",
       "1       358       996       996         0    7         1         1      2015   \n",
       "2         1         0         0         0    7         1         1      2015   \n",
       "3         0         0         0         5    0        88        88      8888   \n",
       "4         1         0         0         0    7         4         1      2015   \n",
       "\n",
       "   DEATH_HR  DEATH_MN  DEATH_TM  LAG_HRS  LAG_MINS  P_SF1  P_SF2  P_SF3  \\\n",
       "0         2        40       240        0         0      0      0      0   \n",
       "1        22        13      2213        0         0      0      0      0   \n",
       "2         1        25       125        0         0      0      0      0   \n",
       "3        88        88      8888      999        99      0      0      0   \n",
       "4         0        57        57        0         0      0      0      0   \n",
       "\n",
       "   WORK_INJ  HISPANIC  RACE  LOCATION  \n",
       "0         0         7     1         0  \n",
       "1         0         7     1         0  \n",
       "2         0         7     2         0  \n",
       "3         8         0     0         0  \n",
       "4         0         7     1         0  "
      ]
     },
     "execution_count": 4,
     "metadata": {},
     "output_type": "execute_result"
    }
   ],
   "source": [
    "persons.head()"
   ]
  },
  {
   "cell_type": "markdown",
   "metadata": {},
   "source": [
    "Let's examine the distribution of `INJ_SEV` or injury severity particular:"
   ]
  },
  {
   "cell_type": "code",
   "execution_count": 5,
   "metadata": {},
   "outputs": [
    {
     "data": {
      "text/plain": [
       "count    80587.000000\n",
       "mean         2.469654\n",
       "std          1.786318\n",
       "min          0.000000\n",
       "25%          1.000000\n",
       "50%          3.000000\n",
       "75%          4.000000\n",
       "max          9.000000\n",
       "Name: INJ_SEV, dtype: float64"
      ]
     },
     "execution_count": 5,
     "metadata": {},
     "output_type": "execute_result"
    }
   ],
   "source": [
    "persons['INJ_SEV'].describe()"
   ]
  },
  {
   "cell_type": "markdown",
   "metadata": {},
   "source": [
    "I'm curious what the frequency of each kind of injury severity is. After refering to the data dictionary for this variable on pg. 245 I made a lookup dictionary."
   ]
  },
  {
   "cell_type": "code",
   "execution_count": 6,
   "metadata": {},
   "outputs": [],
   "source": [
    "inj_types = {\n",
    "    '0': \"No Apparent Injury\",\n",
    "    '1': \"Possible Injury\",\n",
    "    '2': \"Suspected Minor Injury\",\n",
    "    '3': \"Suspected Serious Injury\",\n",
    "    '4': \"Fatal Injury\",\n",
    "    '5': \"Injured, Severity Unknown\",\n",
    "    '6': \"Died Prior to Crash\",\n",
    "    '8': \"Not Reported\",\n",
    "    '9': \"Unknown\"\n",
    "}"
   ]
  },
  {
   "cell_type": "markdown",
   "metadata": {},
   "source": [
    "Now we can count up the frequencies for each type of injury using a `Counter` dictionary"
   ]
  },
  {
   "cell_type": "code",
   "execution_count": 7,
   "metadata": {},
   "outputs": [],
   "source": [
    "d = Counter(inj_types.get(str(row)) for row in persons['INJ_SEV'])"
   ]
  },
  {
   "cell_type": "markdown",
   "metadata": {},
   "source": [
    "Here's what frequency looks like:"
   ]
  },
  {
   "cell_type": "code",
   "execution_count": 8,
   "metadata": {},
   "outputs": [
    {
     "data": {
      "text/plain": [
       "Counter({'Died Prior to Crash': 2,\n",
       "         'Fatal Injury': 35092,\n",
       "         'Injured, Severity Unknown': 250,\n",
       "         'No Apparent Injury': 19704,\n",
       "         'Possible Injury': 7400,\n",
       "         'Suspected Minor Injury': 9045,\n",
       "         'Suspected Serious Injury': 8324,\n",
       "         'Unknown': 770})"
      ]
     },
     "execution_count": 8,
     "metadata": {},
     "output_type": "execute_result"
    }
   ],
   "source": [
    "d"
   ]
  },
  {
   "cell_type": "markdown",
   "metadata": {},
   "source": [
    "To help with plotting, let's sort it into a list"
   ]
  },
  {
   "cell_type": "code",
   "execution_count": 9,
   "metadata": {},
   "outputs": [
    {
     "data": {
      "text/plain": [
       "[('Died Prior to Crash', 2),\n",
       " ('Injured, Severity Unknown', 250),\n",
       " ('Unknown', 770),\n",
       " ('Possible Injury', 7400),\n",
       " ('Suspected Serious Injury', 8324),\n",
       " ('Suspected Minor Injury', 9045),\n",
       " ('No Apparent Injury', 19704),\n",
       " ('Fatal Injury', 35092)]"
      ]
     },
     "execution_count": 9,
     "metadata": {},
     "output_type": "execute_result"
    }
   ],
   "source": [
    "s_list = sorted(d.items(), key=lambda x: x[1])\n",
    "s_list"
   ]
  },
  {
   "cell_type": "markdown",
   "metadata": {},
   "source": [
    "Plotting with the labeled categories helps visualize the frequency of different types of injury severities. "
   ]
  },
  {
   "cell_type": "code",
   "execution_count": 10,
   "metadata": {},
   "outputs": [
    {
     "data": {
      "image/png": "[encoded data removed]",
      "text/plain": [
       "<matplotlib.figure.Figure at 0x7f2aac247d90>"
      ]
     },
     "metadata": {},
     "output_type": "display_data"
    }
   ],
   "source": [
    "plt.barh(bottom=range(len(s_list)), width=list(zip(*s_list))[1], tick_label=list(zip(*s_list))[0]);"
   ]
  },
  {
   "cell_type": "markdown",
   "metadata": {},
   "source": [
    "This graph is sobering showing that fatal injuries are the most common type of injury. Interestingly the second-most common injury type is `No Apparent Injury`. It's definitely worth looking into what other variables separate out those top two injury types."
   ]
  },
  {
   "cell_type": "markdown",
   "metadata": {},
   "source": [
    "We can get a high-level glance at a couple variables' distributions"
   ]
  },
  {
   "cell_type": "code",
   "execution_count": 11,
   "metadata": {},
   "outputs": [
    {
     "data": {
      "text/html": [
       "<div>\n",
       "<style>\n",
       "    .dataframe thead tr:only-child th {\n",
       "        text-align: right;\n",
       "    }\n",
       "\n",
       "    .dataframe thead th {\n",
       "        text-align: left;\n",
       "    }\n",
       "\n",
       "    .dataframe tbody tr th {\n",
       "        vertical-align: top;\n",
       "    }\n",
       "</style>\n",
       "<table border=\"1\" class=\"dataframe\">\n",
       "  <thead>\n",
       "    <tr style=\"text-align: right;\">\n",
       "      <th></th>\n",
       "      <th>AGE</th>\n",
       "      <th>HOUR</th>\n",
       "    </tr>\n",
       "  </thead>\n",
       "  <tbody>\n",
       "    <tr>\n",
       "      <th>count</th>\n",
       "      <td>80587.000000</td>\n",
       "      <td>80587.000000</td>\n",
       "    </tr>\n",
       "    <tr>\n",
       "      <th>mean</th>\n",
       "      <td>58.975281</td>\n",
       "      <td>13.517999</td>\n",
       "    </tr>\n",
       "    <tr>\n",
       "      <th>std</th>\n",
       "      <td>138.082198</td>\n",
       "      <td>8.828619</td>\n",
       "    </tr>\n",
       "    <tr>\n",
       "      <th>min</th>\n",
       "      <td>0.000000</td>\n",
       "      <td>0.000000</td>\n",
       "    </tr>\n",
       "    <tr>\n",
       "      <th>25%</th>\n",
       "      <td>23.000000</td>\n",
       "      <td>8.000000</td>\n",
       "    </tr>\n",
       "    <tr>\n",
       "      <th>50%</th>\n",
       "      <td>37.000000</td>\n",
       "      <td>14.000000</td>\n",
       "    </tr>\n",
       "    <tr>\n",
       "      <th>75%</th>\n",
       "      <td>55.000000</td>\n",
       "      <td>19.000000</td>\n",
       "    </tr>\n",
       "    <tr>\n",
       "      <th>max</th>\n",
       "      <td>999.000000</td>\n",
       "      <td>99.000000</td>\n",
       "    </tr>\n",
       "  </tbody>\n",
       "</table>\n",
       "</div>"
      ],
      "text/plain": [
       "                AGE          HOUR\n",
       "count  80587.000000  80587.000000\n",
       "mean      58.975281     13.517999\n",
       "std      138.082198      8.828619\n",
       "min        0.000000      0.000000\n",
       "25%       23.000000      8.000000\n",
       "50%       37.000000     14.000000\n",
       "75%       55.000000     19.000000\n",
       "max      999.000000     99.000000"
      ]
     },
     "execution_count": 11,
     "metadata": {},
     "output_type": "execute_result"
    }
   ],
   "source": [
    "persons[['AGE', 'HOUR']].describe()"
   ]
  },
  {
   "cell_type": "markdown",
   "metadata": {},
   "source": [
    "FARS sometimes uses `999` to stand in for an unknown value. Since those max values don't make sense, we can filter them out temporarily to explore `AGE` and `HOUR` distributions"
   ]
  },
  {
   "cell_type": "code",
   "execution_count": 12,
   "metadata": {},
   "outputs": [],
   "source": [
    "df = persons[(persons['AGE'] < 121) & (persons['HOUR'] <25)]"
   ]
  },
  {
   "cell_type": "markdown",
   "metadata": {},
   "source": [
    "Now we see distributions that make more sense:"
   ]
  },
  {
   "cell_type": "code",
   "execution_count": 13,
   "metadata": {},
   "outputs": [
    {
     "data": {
      "text/html": [
       "<div>\n",
       "<style>\n",
       "    .dataframe thead tr:only-child th {\n",
       "        text-align: right;\n",
       "    }\n",
       "\n",
       "    .dataframe thead th {\n",
       "        text-align: left;\n",
       "    }\n",
       "\n",
       "    .dataframe tbody tr th {\n",
       "        vertical-align: top;\n",
       "    }\n",
       "</style>\n",
       "<table border=\"1\" class=\"dataframe\">\n",
       "  <thead>\n",
       "    <tr style=\"text-align: right;\">\n",
       "      <th></th>\n",
       "      <th>AGE</th>\n",
       "      <th>HOUR</th>\n",
       "    </tr>\n",
       "  </thead>\n",
       "  <tbody>\n",
       "    <tr>\n",
       "      <th>count</th>\n",
       "      <td>78588.000000</td>\n",
       "      <td>78588.000000</td>\n",
       "    </tr>\n",
       "    <tr>\n",
       "      <th>mean</th>\n",
       "      <td>39.119115</td>\n",
       "      <td>13.126890</td>\n",
       "    </tr>\n",
       "    <tr>\n",
       "      <th>std</th>\n",
       "      <td>20.330203</td>\n",
       "      <td>6.638303</td>\n",
       "    </tr>\n",
       "    <tr>\n",
       "      <th>min</th>\n",
       "      <td>0.000000</td>\n",
       "      <td>0.000000</td>\n",
       "    </tr>\n",
       "    <tr>\n",
       "      <th>25%</th>\n",
       "      <td>23.000000</td>\n",
       "      <td>8.000000</td>\n",
       "    </tr>\n",
       "    <tr>\n",
       "      <th>50%</th>\n",
       "      <td>36.000000</td>\n",
       "      <td>14.000000</td>\n",
       "    </tr>\n",
       "    <tr>\n",
       "      <th>75%</th>\n",
       "      <td>54.000000</td>\n",
       "      <td>19.000000</td>\n",
       "    </tr>\n",
       "    <tr>\n",
       "      <th>max</th>\n",
       "      <td>114.000000</td>\n",
       "      <td>23.000000</td>\n",
       "    </tr>\n",
       "  </tbody>\n",
       "</table>\n",
       "</div>"
      ],
      "text/plain": [
       "                AGE          HOUR\n",
       "count  78588.000000  78588.000000\n",
       "mean      39.119115     13.126890\n",
       "std       20.330203      6.638303\n",
       "min        0.000000      0.000000\n",
       "25%       23.000000      8.000000\n",
       "50%       36.000000     14.000000\n",
       "75%       54.000000     19.000000\n",
       "max      114.000000     23.000000"
      ]
     },
     "execution_count": 13,
     "metadata": {},
     "output_type": "execute_result"
    }
   ],
   "source": [
    "df[['AGE', 'HOUR']].describe()"
   ]
  },
  {
   "cell_type": "markdown",
   "metadata": {},
   "source": [
    "### Age distribution\n",
    "Here we plot a histogram of age frequencies:"
   ]
  },
  {
   "cell_type": "code",
   "execution_count": 14,
   "metadata": {},
   "outputs": [
    {
     "data": {
      "image/png": "[encoded data removed]",
      "text/plain": [
       "<matplotlib.figure.Figure at 0x7f2a66c15ad0>"
      ]
     },
     "metadata": {},
     "output_type": "display_data"
    }
   ],
   "source": [
    "sns.distplot(df['AGE']);"
   ]
  },
  {
   "cell_type": "markdown",
   "metadata": {},
   "source": [
    "We see a high peak in the early twenties followed by general decline as age increases with a slight rise around the fifties."
   ]
  },
  {
   "cell_type": "markdown",
   "metadata": {},
   "source": [
    "### What if I want to see if there's a correlation between `AGE` and `HOUR` of incident?"
   ]
  },
  {
   "cell_type": "code",
   "execution_count": 15,
   "metadata": {},
   "outputs": [
    {
     "data": {
      "image/png": "[encoded data removed]",
      "text/plain": [
       "<matplotlib.figure.Figure at 0x7f2a66c1d250>"
      ]
     },
     "metadata": {},
     "output_type": "display_data"
    }
   ],
   "source": [
    "sns.jointplot(x=\"AGE\", y=\"HOUR\", data=df, kind=\"kde\");"
   ]
  },
  {
   "cell_type": "markdown",
   "metadata": {
    "collapsed": true
   },
   "source": [
    "Here we can see that for the high peak around 20 the most frequent hours of accidents are in the evening into the late night."
   ]
  },
  {
   "cell_type": "code",
   "execution_count": null,
   "metadata": {
    "collapsed": true
   },
   "outputs": [],
   "source": []
  }
 ],
 "metadata": {
  "kernelspec": {
   "display_name": "Python 2",
   "language": "python",
   "name": "python2"
  },
  "language_info": {
   "codemirror_mode": {
    "name": "ipython",
    "version": 2
   },
   "file_extension": ".py",
   "mimetype": "text/x-python",
   "name": "python",
   "nbconvert_exporter": "python",
   "pygments_lexer": "ipython2",
   "version": "2.7.9"
  }
 },
 "nbformat": 4,
 "nbformat_minor": 2
}
